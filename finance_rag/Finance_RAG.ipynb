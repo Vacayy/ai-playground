{
  "nbformat": 4,
  "nbformat_minor": 0,
  "metadata": {
    "colab": {
      "provenance": [],
      "include_colab_link": true
    },
    "kernelspec": {
      "name": "python3",
      "display_name": "Python 3"
    },
    "language_info": {
      "name": "python"
    }
  },
  "cells": [
    {
      "cell_type": "markdown",
      "metadata": {
        "id": "view-in-github",
        "colab_type": "text"
      },
      "source": [
        "<a href=\"https://colab.research.google.com/github/Vacayy/ai-playground/blob/main/finance_rag/Finance_RAG.ipynb\" target=\"_parent\"><img src=\"https://colab.research.google.com/assets/colab-badge.svg\" alt=\"Open In Colab\"/></a>"
      ]
    },
    {
      "cell_type": "markdown",
      "source": [
        "# RAG 기반 해외 주식의 재무 데이터 분석\n",
        "## 설명\n",
        "- 분석하고자 하는 주식의 ticker를 입력합니다.\n",
        "- yfinance를 기반으로 해당 주식의 재무 데이터(Income Statement (손익계산서), Balance Sheets (재무상태표), Cashflow (현금흐름표))를 불러옵니다.\n",
        "  - JSON이 아닌 Pandas DataFrame 타입의 데이터입니다.\n",
        "- 재무 데이터들을 전처리한 다음, context로 넣어줍니다.\n",
        "- Model에 투자와 재무에 능통한 애널리스트 역할을 부여하여, 재무 건전성과 특이점을 분석합니다.\n",
        "<br><br/>\n",
        "\n",
        "\n",
        "> **아직 테스트 단계이므로, 단순하게 Microsoft 종목의 손익계산서로 한정하여 진행하였습니다.**\n",
        "\n"
      ],
      "metadata": {
        "id": "C0r46LBCAG4V"
      }
    },
    {
      "cell_type": "code",
      "execution_count": null,
      "metadata": {
        "id": "TwaANvAGIwl4",
        "collapsed": true
      },
      "outputs": [],
      "source": [
        "!pip install langchain-community langchain-chroma langchain-openai bs4"
      ]
    },
    {
      "cell_type": "code",
      "source": [
        "# import bs4  # BeautifulSoup4: HTML 및 XML 파일을 파싱하기 위한 라이브러리\n",
        "from langchain import hub  # LangChain의 다양한 유틸리티와 허브 사용\n",
        "from langchain_chroma import Chroma  # 벡터 데이터 저장소인 Chroma 사용\n",
        "from langchain_openai import ChatOpenAI  # OpenAI LLM 모델 사용\n",
        "from langchain_openai import OpenAIEmbeddings  # OpenAI 임베딩 사용\n",
        "# from langchain_community.document_loaders import WebBaseLoader  # 웹 문서를 불러오는 유틸리티\n",
        "from langchain_text_splitters import RecursiveCharacterTextSplitter  # 텍스트를 분할하는 도구"
      ],
      "metadata": {
        "id": "lrlcWNMyI0HQ"
      },
      "execution_count": 6,
      "outputs": []
    },
    {
      "cell_type": "code",
      "source": [
        "from google.colab import userdata\n",
        "\n",
        "openai_api_key = userdata.get('openai_api_key')\n",
        "llm = ChatOpenAI(model=\"gpt-4o-mini\", api_key=openai_api_key) # OpenAI 모델 초기화 (by langchain)"
      ],
      "metadata": {
        "id": "gdjtGqsgI2Ub"
      },
      "execution_count": 32,
      "outputs": []
    },
    {
      "cell_type": "markdown",
      "source": [
        "# [MY CODE] 재무 데이터 불러오기\n",
        "- yfinance 를 이용하여 재무데이터를 불러옵니다.\n",
        "- 재무데이터는 pandas의 dataframe 포맷입니다. 따라서 적절하게 전처리하는 과정이 필요합니다."
      ],
      "metadata": {
        "id": "wkuGbl2jQxwX"
      }
    },
    {
      "cell_type": "code",
      "source": [
        "import yfinance as yf\n",
        "\n",
        "msft = yf.Ticker(\"MSFT\")\n",
        "income_stmt = msft.income_stmt # 손익계산서"
      ],
      "metadata": {
        "id": "3LduUOirIqpK"
      },
      "execution_count": 3,
      "outputs": []
    },
    {
      "cell_type": "code",
      "source": [
        "print(type(income_stmt))"
      ],
      "metadata": {
        "colab": {
          "base_uri": "https://localhost:8080/"
        },
        "id": "HuI9ee4nJLwA",
        "outputId": "da2a2d6a-3e95-4b4a-9248-5391f778ba5d"
      },
      "execution_count": 56,
      "outputs": [
        {
          "output_type": "stream",
          "name": "stdout",
          "text": [
            "<class 'pandas.core.frame.DataFrame'>\n"
          ]
        }
      ]
    },
    {
      "cell_type": "markdown",
      "source": [
        "# [MY CODE] 데이터 전처리\n",
        "- DataFrame 을 JSON으로 변환하고, 최종적으로 document 포맷으로 변환합니다.\n",
        "- 단순히 JSON으로 변환하고 document 포맷 변환을 시도하니, 타입 에러가 발생했습니다.\n",
        "- 따라서 JSON으로 변환하는 과정에서 모든 내부 key, value 값을 string으로 바꿔주었습니다."
      ],
      "metadata": {
        "id": "yIZc2zRtLwmK"
      }
    },
    {
      "cell_type": "code",
      "source": [
        "from langchain.schema import Document\n",
        "import json\n",
        "\n",
        "# DataFrame을 JSON으로 변환\n",
        "income_json = income_stmt.to_dict()\n",
        "\n",
        "\"\"\"\n",
        "document 로 변환하는 과정에서 str, int, float, bool, None 타입이 아니라면 에러가 발생합니다.\n",
        "따라서 내부 모든 값을 string으로 변환합니다.\n",
        "\"\"\"\n",
        "# 키와 값의 Timestamp를 문자열로 변환\n",
        "income_json_cleaned = {}\n",
        "for key, value in income_json.items():\n",
        "    key_str = str(key)\n",
        "    # 내부 값도 dict 형태일 경우, 중첩된 값도 처리\n",
        "    if isinstance(value, dict):\n",
        "        value = {str(inner_key): inner_value for inner_key, inner_value in value.items()}\n",
        "    income_json_cleaned[key_str] = value\n",
        "\n",
        "# JSON 데이터를 Document로 변환\n",
        "doc = Document(metadata={\"source\": \"Microsoft Income Statement\"}, page_content=json.dumps(income_json_cleaned, indent=2))\n",
        "\n",
        "print(f'type(doc): {type(doc)}, | type(doc.page_content): {type(doc.page_content)}')\n",
        "print('======================= ======================= =======================')\n",
        "print(doc.page_content[:500])  # 일부 출력 테스트\n"
      ],
      "metadata": {
        "colab": {
          "base_uri": "https://localhost:8080/"
        },
        "id": "8FxysM36Lzmr",
        "outputId": "b18ad470-ab27-42b6-f6b6-048f14b43919"
      },
      "execution_count": 30,
      "outputs": [
        {
          "output_type": "stream",
          "name": "stdout",
          "text": [
            "type(doc): <class 'langchain_core.documents.base.Document'>, | type(doc.page_content): <class 'str'>\n",
            "======================= ======================= =======================\n",
            "{\n",
            "  \"2024-06-30 00:00:00\": {\n",
            "    \"Tax Effect Of Unusual Items\": -99918000.0,\n",
            "    \"Tax Rate For Calcs\": 0.182,\n",
            "    \"Normalized EBITDA\": 133558000000.0,\n",
            "    \"Total Unusual Items\": -549000000.0,\n",
            "    \"Total Unusual Items Excluding Goodwill\": -549000000.0,\n",
            "    \"Net Income From Continuing Operation Net Minority Interest\": 88136000000.0,\n",
            "    \"Reconciled Depreciation\": 22287000000.0,\n",
            "    \"Reconciled Cost Of Revenue\": 74114000000.0,\n",
            "    \"EBITDA\": 133009000000.0,\n",
            "    \"EBIT\": 110722000000.0,\n",
            "    \"Net Inter\n"
          ]
        }
      ]
    },
    {
      "cell_type": "markdown",
      "source": [
        "#[MY CODE] Document를 VectorDB에 저장하기\n",
        "\n",
        "VectorDB에 넣기 전에 split을 진행하지 않았는데, 이유는 다음과 같습니다.\n",
        "- 재무 상태표나 손익계산서 같은 데이터는 일반적으로 정해진 형식과 길이를 가지며, 그 길이가 아주 길지는 않습니다.\n",
        "- 또한 각 데이터의 항목 간 상호 연관성이 있기 때문에 전체 맥락을 유지하는 것이 중요합니다.\n",
        "- 따라서 이런 경우 split을 하지 않고 전체 데이터를 하나의 Document로 유지하는 것이 더 적합하다고 판단했습니다."
      ],
      "metadata": {
        "id": "QTV0LZIN9dlw"
      }
    },
    {
      "cell_type": "code",
      "source": [
        "# 벡터 저장소 생성\n",
        "vectorstore = Chroma.from_documents(\n",
        "    documents=[doc],  # 전체 데이터 하나의 Document로 처리\n",
        "    embedding=OpenAIEmbeddings(api_key=openai_api_key)  # OpenAI 임베딩 사용\n",
        ")\n",
        "\n",
        "# 검색자 초기화\n",
        "retriever = vectorstore.as_retriever()"
      ],
      "metadata": {
        "id": "ewqNBMS_I7zB"
      },
      "execution_count": 33,
      "outputs": []
    },
    {
      "cell_type": "markdown",
      "source": [
        "# [MY CODE] 유저 질문 > 문서 검색"
      ],
      "metadata": {
        "id": "2w-atszvl7x2"
      }
    },
    {
      "cell_type": "code",
      "source": [
        "# 유저 질문\n",
        "user_msg = \"Microsoft의 손익계산서에서 기간별 순이익(Net Income) 추이를 요약해줘.\"\n",
        "\n",
        "# 검색된 문서\n",
        "retrieved_docs = retriever.invoke(user_msg)\n",
        "\n",
        "# 검색된 문서 출력\n",
        "for doc in retrieved_docs:\n",
        "    print(doc.page_content)"
      ],
      "metadata": {
        "id": "dKwUiRrPJMq1",
        "colab": {
          "base_uri": "https://localhost:8080/"
        },
        "outputId": "d291ed30-5105-474d-a5b4-13ceac82ce62"
      },
      "execution_count": 34,
      "outputs": [
        {
          "output_type": "stream",
          "name": "stderr",
          "text": [
            "WARNING:chromadb.segment.impl.vector.local_hnsw:Number of requested results 4 is greater than number of elements in index 1, updating n_results = 1\n"
          ]
        },
        {
          "output_type": "stream",
          "name": "stdout",
          "text": [
            "{\n",
            "  \"2024-06-30 00:00:00\": {\n",
            "    \"Tax Effect Of Unusual Items\": -99918000.0,\n",
            "    \"Tax Rate For Calcs\": 0.182,\n",
            "    \"Normalized EBITDA\": 133558000000.0,\n",
            "    \"Total Unusual Items\": -549000000.0,\n",
            "    \"Total Unusual Items Excluding Goodwill\": -549000000.0,\n",
            "    \"Net Income From Continuing Operation Net Minority Interest\": 88136000000.0,\n",
            "    \"Reconciled Depreciation\": 22287000000.0,\n",
            "    \"Reconciled Cost Of Revenue\": 74114000000.0,\n",
            "    \"EBITDA\": 133009000000.0,\n",
            "    \"EBIT\": 110722000000.0,\n",
            "    \"Net Interest Income\": 222000000.0,\n",
            "    \"Interest Expense\": 2935000000.0,\n",
            "    \"Interest Income\": 3157000000.0,\n",
            "    \"Normalized Income\": 88585082000.0,\n",
            "    \"Net Income From Continuing And Discontinued Operation\": 88136000000.0,\n",
            "    \"Total Expenses\": 135689000000.0,\n",
            "    \"Total Operating Income As Reported\": 109433000000.0,\n",
            "    \"Diluted Average Shares\": 7469000000.0,\n",
            "    \"Basic Average Shares\": 7431000000.0,\n",
            "    \"Diluted EPS\": 11.8,\n",
            "    \"Basic EPS\": 11.86,\n",
            "    \"Diluted NI Availto Com Stockholders\": 88136000000.0,\n",
            "    \"Net Income Common Stockholders\": 88136000000.0,\n",
            "    \"Net Income\": 88136000000.0,\n",
            "    \"Net Income Including Noncontrolling Interests\": 88136000000.0,\n",
            "    \"Net Income Continuous Operations\": 88136000000.0,\n",
            "    \"Tax Provision\": 19651000000.0,\n",
            "    \"Pretax Income\": 107787000000.0,\n",
            "    \"Other Income Expense\": -1868000000.0,\n",
            "    \"Other Non Operating Income Expenses\": -1319000000.0,\n",
            "    \"Special Income Charges\": -206000000.0,\n",
            "    \"Write Off\": 206000000.0,\n",
            "    \"Gain On Sale Of Security\": -343000000.0,\n",
            "    \"Net Non Operating Interest Income Expense\": 222000000.0,\n",
            "    \"Interest Expense Non Operating\": 2935000000.0,\n",
            "    \"Interest Income Non Operating\": 3157000000.0,\n",
            "    \"Operating Income\": 109433000000.0,\n",
            "    \"Operating Expense\": 61575000000.0,\n",
            "    \"Research And Development\": 29510000000.0,\n",
            "    \"Selling General And Administration\": 32065000000.0,\n",
            "    \"Selling And Marketing Expense\": 24456000000.0,\n",
            "    \"General And Administrative Expense\": 7609000000.0,\n",
            "    \"Other Gand A\": 7609000000.0,\n",
            "    \"Gross Profit\": 171008000000.0,\n",
            "    \"Cost Of Revenue\": 74114000000.0,\n",
            "    \"Total Revenue\": 245122000000.0,\n",
            "    \"Operating Revenue\": 245122000000.0\n",
            "  },\n",
            "  \"2023-06-30 00:00:00\": {\n",
            "    \"Tax Effect Of Unusual Items\": -2850000.0,\n",
            "    \"Tax Rate For Calcs\": 0.19,\n",
            "    \"Normalized EBITDA\": 105155000000.0,\n",
            "    \"Total Unusual Items\": -15000000.0,\n",
            "    \"Total Unusual Items Excluding Goodwill\": -15000000.0,\n",
            "    \"Net Income From Continuing Operation Net Minority Interest\": 72361000000.0,\n",
            "    \"Reconciled Depreciation\": 13861000000.0,\n",
            "    \"Reconciled Cost Of Revenue\": 65863000000.0,\n",
            "    \"EBITDA\": 105140000000.0,\n",
            "    \"EBIT\": 91279000000.0,\n",
            "    \"Net Interest Income\": 1026000000.0,\n",
            "    \"Interest Expense\": 1968000000.0,\n",
            "    \"Interest Income\": 2994000000.0,\n",
            "    \"Normalized Income\": 72373150000.0,\n",
            "    \"Net Income From Continuing And Discontinued Operation\": 72361000000.0,\n",
            "    \"Total Expenses\": 123392000000.0,\n",
            "    \"Total Operating Income As Reported\": 88523000000.0,\n",
            "    \"Diluted Average Shares\": 7472000000.0,\n",
            "    \"Basic Average Shares\": 7446000000.0,\n",
            "    \"Diluted EPS\": 9.68,\n",
            "    \"Basic EPS\": 9.72,\n",
            "    \"Diluted NI Availto Com Stockholders\": 72361000000.0,\n",
            "    \"Net Income Common Stockholders\": 72361000000.0,\n",
            "    \"Net Income\": 72361000000.0,\n",
            "    \"Net Income Including Noncontrolling Interests\": 72361000000.0,\n",
            "    \"Net Income Continuous Operations\": 72361000000.0,\n",
            "    \"Tax Provision\": 16950000000.0,\n",
            "    \"Pretax Income\": 89311000000.0,\n",
            "    \"Other Income Expense\": -238000000.0,\n",
            "    \"Other Non Operating Income Expenses\": -223000000.0,\n",
            "    \"Special Income Charges\": -30000000.0,\n",
            "    \"Write Off\": 30000000.0,\n",
            "    \"Gain On Sale Of Security\": 15000000.0,\n",
            "    \"Net Non Operating Interest Income Expense\": 1026000000.0,\n",
            "    \"Interest Expense Non Operating\": 1968000000.0,\n",
            "    \"Interest Income Non Operating\": 2994000000.0,\n",
            "    \"Operating Income\": 88523000000.0,\n",
            "    \"Operating Expense\": 57529000000.0,\n",
            "    \"Research And Development\": 27195000000.0,\n",
            "    \"Selling General And Administration\": 30334000000.0,\n",
            "    \"Selling And Marketing Expense\": 22759000000.0,\n",
            "    \"General And Administrative Expense\": 7575000000.0,\n",
            "    \"Other Gand A\": 7575000000.0,\n",
            "    \"Gross Profit\": 146052000000.0,\n",
            "    \"Cost Of Revenue\": 65863000000.0,\n",
            "    \"Total Revenue\": 211915000000.0,\n",
            "    \"Operating Revenue\": 211915000000.0\n",
            "  },\n",
            "  \"2022-06-30 00:00:00\": {\n",
            "    \"Tax Effect Of Unusual Items\": 43754000.0,\n",
            "    \"Tax Rate For Calcs\": 0.131,\n",
            "    \"Normalized EBITDA\": 99905000000.0,\n",
            "    \"Total Unusual Items\": 334000000.0,\n",
            "    \"Total Unusual Items Excluding Goodwill\": 334000000.0,\n",
            "    \"Net Income From Continuing Operation Net Minority Interest\": 72738000000.0,\n",
            "    \"Reconciled Depreciation\": 14460000000.0,\n",
            "    \"Reconciled Cost Of Revenue\": 62650000000.0,\n",
            "    \"EBITDA\": 100239000000.0,\n",
            "    \"EBIT\": 85779000000.0,\n",
            "    \"Net Interest Income\": 31000000.0,\n",
            "    \"Interest Expense\": 2063000000.0,\n",
            "    \"Interest Income\": 2094000000.0,\n",
            "    \"Normalized Income\": 72447754000.0,\n",
            "    \"Net Income From Continuing And Discontinued Operation\": 72738000000.0,\n",
            "    \"Total Expenses\": 114887000000.0,\n",
            "    \"Total Operating Income As Reported\": 83383000000.0,\n",
            "    \"Diluted Average Shares\": 7540000000.0,\n",
            "    \"Basic Average Shares\": 7496000000.0,\n",
            "    \"Diluted EPS\": 9.65,\n",
            "    \"Basic EPS\": 9.7,\n",
            "    \"Diluted NI Availto Com Stockholders\": 72738000000.0,\n",
            "    \"Net Income Common Stockholders\": 72738000000.0,\n",
            "    \"Net Income\": 72738000000.0,\n",
            "    \"Net Income Including Noncontrolling Interests\": 72738000000.0,\n",
            "    \"Net Income Continuous Operations\": 72738000000.0,\n",
            "    \"Tax Provision\": 10978000000.0,\n",
            "    \"Pretax Income\": 83716000000.0,\n",
            "    \"Other Income Expense\": 302000000.0,\n",
            "    \"Other Non Operating Income Expenses\": -32000000.0,\n",
            "    \"Special Income Charges\": -101000000.0,\n",
            "    \"Write Off\": 101000000.0,\n",
            "    \"Gain On Sale Of Security\": 435000000.0,\n",
            "    \"Net Non Operating Interest Income Expense\": 31000000.0,\n",
            "    \"Interest Expense Non Operating\": 2063000000.0,\n",
            "    \"Interest Income Non Operating\": 2094000000.0,\n",
            "    \"Operating Income\": 83383000000.0,\n",
            "    \"Operating Expense\": 52237000000.0,\n",
            "    \"Research And Development\": 24512000000.0,\n",
            "    \"Selling General And Administration\": 27725000000.0,\n",
            "    \"Selling And Marketing Expense\": 21825000000.0,\n",
            "    \"General And Administrative Expense\": 5900000000.0,\n",
            "    \"Other Gand A\": 5900000000.0,\n",
            "    \"Gross Profit\": 135620000000.0,\n",
            "    \"Cost Of Revenue\": 62650000000.0,\n",
            "    \"Total Revenue\": 198270000000.0,\n",
            "    \"Operating Revenue\": 198270000000.0\n",
            "  },\n",
            "  \"2021-06-30 00:00:00\": {\n",
            "    \"Tax Effect Of Unusual Items\": 180160797.164637,\n",
            "    \"Tax Rate For Calcs\": 0.138266,\n",
            "    \"Normalized EBITDA\": 83831000000.0,\n",
            "    \"Total Unusual Items\": 1303000000.0,\n",
            "    \"Total Unusual Items Excluding Goodwill\": 1303000000.0,\n",
            "    \"Net Income From Continuing Operation Net Minority Interest\": 61271000000.0,\n",
            "    \"Reconciled Depreciation\": 11686000000.0,\n",
            "    \"Reconciled Cost Of Revenue\": 52232000000.0,\n",
            "    \"EBITDA\": 85134000000.0,\n",
            "    \"EBIT\": 73448000000.0,\n",
            "    \"Net Interest Income\": -215000000.0,\n",
            "    \"Interest Expense\": 2346000000.0,\n",
            "    \"Interest Income\": 2131000000.0,\n",
            "    \"Normalized Income\": 60148160797.164635,\n",
            "    \"Net Income From Continuing And Discontinued Operation\": 61271000000.0,\n",
            "    \"Total Expenses\": 98172000000.0,\n",
            "    \"Total Operating Income As Reported\": 69916000000.0,\n",
            "    \"Diluted Average Shares\": 7608000000.0,\n",
            "    \"Basic Average Shares\": 7547000000.0,\n",
            "    \"Diluted EPS\": 8.05,\n",
            "    \"Basic EPS\": 8.12,\n",
            "    \"Diluted NI Availto Com Stockholders\": 61271000000.0,\n",
            "    \"Net Income Common Stockholders\": 61271000000.0,\n",
            "    \"Net Income\": 61271000000.0,\n",
            "    \"Net Income Including Noncontrolling Interests\": 61271000000.0,\n",
            "    \"Net Income Continuous Operations\": 61271000000.0,\n",
            "    \"Tax Provision\": 9831000000.0,\n",
            "    \"Pretax Income\": 71102000000.0,\n",
            "    \"Other Income Expense\": 1401000000.0,\n",
            "    \"Other Non Operating Income Expenses\": 98000000.0,\n",
            "    \"Special Income Charges\": -13000000.0,\n",
            "    \"Write Off\": 13000000.0,\n",
            "    \"Gain On Sale Of Security\": 1316000000.0,\n",
            "    \"Net Non Operating Interest Income Expense\": -215000000.0,\n",
            "    \"Interest Expense Non Operating\": 2346000000.0,\n",
            "    \"Interest Income Non Operating\": 2131000000.0,\n",
            "    \"Operating Income\": 69916000000.0,\n",
            "    \"Operating Expense\": 45940000000.0,\n",
            "    \"Research And Development\": 20716000000.0,\n",
            "    \"Selling General And Administration\": 25224000000.0,\n",
            "    \"Selling And Marketing Expense\": 20117000000.0,\n",
            "    \"General And Administrative Expense\": 5107000000.0,\n",
            "    \"Other Gand A\": 5107000000.0,\n",
            "    \"Gross Profit\": 115856000000.0,\n",
            "    \"Cost Of Revenue\": 52232000000.0,\n",
            "    \"Total Revenue\": 168088000000.0,\n",
            "    \"Operating Revenue\": 168088000000.0\n",
            "  }\n",
            "}\n"
          ]
        }
      ]
    },
    {
      "cell_type": "markdown",
      "source": [
        "# [MY CODE] Prompt 생성\n",
        "- rag-prompt, role_msg, user_msg 를 조합하여 prompt를 생성합니다."
      ],
      "metadata": {
        "id": "jtbJIMA8T7s0"
      }
    },
    {
      "cell_type": "code",
      "source": [
        "from langchain.schema import SystemMessage, HumanMessage, AIMessage\n",
        "\n",
        "prompt = hub.pull(\"rlm/rag-prompt\") # 랭체인 허브에서 사전 정의된 RAG용 프롬프트를 가져옴\n",
        "\n",
        "role_msg = 'You are a senior equity analyst with a deep knowledge of finance and investing. You provide factual, friendly, and detailed analysis, pointing out changes over time. When you need to compare numbers and do math, you do it by coding.'\n",
        "user_prompt = prompt.invoke({\"context\": retrieved_docs[0].page_content, \"role\": role_msg, \"question\": user_msg})\n",
        "\n",
        "messages = [\n",
        "    SystemMessage(content=role_msg),  # role\n",
        "    HumanMessage(content=user_prompt.to_string()) # 타입 에러로 인해 string 변환 후 넣어줌\n",
        "]\n",
        "\n",
        "print(messages[0])\n",
        "print(messages[1].content[0:300])"
      ],
      "metadata": {
        "colab": {
          "base_uri": "https://localhost:8080/"
        },
        "id": "E0vr9DNhT8Tx",
        "outputId": "46fb20fa-84f5-413b-cdbb-5349d36f80c7"
      },
      "execution_count": 62,
      "outputs": [
        {
          "output_type": "stream",
          "name": "stdout",
          "text": [
            "content='You are a senior equity analyst with a deep knowledge of finance and investing. You provide factual, friendly, and detailed analysis, pointing out changes over time. When you need to compare numbers and do math, you do it by coding.' additional_kwargs={} response_metadata={}\n",
            "Human: You are an assistant for question-answering tasks. Use the following pieces of retrieved context to answer the question. If you don't know the answer, just say that you don't know. Use three sentences maximum and keep the answer concise.\n",
            "Question: Microsoft의 최근 손익계산서에서 순이익(Net Income)을 요약해줘. \n"
          ]
        },
        {
          "output_type": "stream",
          "name": "stderr",
          "text": [
            "/usr/local/lib/python3.11/dist-packages/langsmith/client.py:256: LangSmithMissingAPIKeyWarning: API key must be provided when using hosted LangSmith API\n",
            "  warnings.warn(\n"
          ]
        }
      ]
    },
    {
      "cell_type": "markdown",
      "source": [
        "# [MY CODE] llm.invoke()\n",
        "## 프롬프팅 전략\n",
        "\n",
        "1. 역할 프롬프트를 따로 지정\n",
        "2. 영어로 프롬프트 작성\n",
        "3. 수치 계산은 코딩을 통해 해결하도록 하여 정확성 향상\n",
        "\n",
        "As-Is: '당신은 시니어 주식 애널리스트입니다. 당신은 재무, 투자에 해박한 지식을 가지고 있으며, 시계열에 따른 변화를 예리하게 짚을 수 있습니다. 사실에 기반하면서도 자세한 분석을 제공합니다. 수치 비교 및 수학적 계산이 필요한 경우 반드시 코딩을 통해 수행하세요.'\n",
        "\n",
        "> 응답: \"*Microsoft의 2024년 6월 30일 기준 순이익은 88,136,000,000 달러입니다. 이는 전년도인 2023년 6월 30일의 72,361,000,000 달러와 비교하여 약 21.76% 증가한 수치입니다. 2022년과 비교하면 순이익은 7.74% 증가했습니다.*\"\n",
        "\n",
        "To-Be: You are a senior equity analyst with a deep knowledge of finance and investing. You provide factual, friendly, and detailed analysis, pointing out changes over time. When you need to compare numbers and do math, you do it by coding. ('당신은 재무, 투자에 해박한 지식을 가지고 있는 시니어 주식 애널리스트입니다. 시계열에 따른 변화를 짚어주며, 사실에 기반하면서도 친절하고 자세한 분석을 제공합니다. 수치 비교 및 수학적 계산이 필요한 경우 반드시 코딩을 통해 수행하세요.')\n",
        "\n",
        "> 응답: Microsoft의 2024년 6월 30일 기준 순이익은 88,136,000,000달러이며, 이는 전년 동기인 2023년 6월 30일의 72,361,000,000달러에 비해 증가했습니다. 또한 2022년 6월 30일에는 72,738,000,000달러였으므로, 두 해를 비교했을 때 연속적인 성장세를 보였습니다. 이러한 성장 추세는 견고한 총 수익과 비용 관리의 결과로 해석될 수 있습니다.\n"
      ],
      "metadata": {
        "id": "f8HyD1Goqezi"
      }
    },
    {
      "cell_type": "code",
      "source": [
        "response = llm(messages)\n",
        "print(response.content)"
      ],
      "metadata": {
        "colab": {
          "base_uri": "https://localhost:8080/"
        },
        "id": "bqHKsIyUJc_m",
        "outputId": "11baf7db-04fe-4e3d-bc86-e4725c681284"
      },
      "execution_count": 53,
      "outputs": [
        {
          "output_type": "stream",
          "name": "stdout",
          "text": [
            "Microsoft의 2024년 6월 30일 기준 순이익은 88,136,000,000달러이며, 이는 전년 동기인 2023년 6월 30일의 72,361,000,000달러에 비해 증가했습니다. 또한 2022년 6월 30일에는 72,738,000,000달러였으므로, 두 해를 비교했을 때 연속적인 성장세를 보였습니다. 이러한 성장 추세는 견고한 총 수익과 비용 관리의 결과로 해석될 수 있습니다.\n"
          ]
        }
      ]
    },
    {
      "cell_type": "markdown",
      "source": [
        "# [MY CODE] 결과 분석\n",
        "### 질문\n",
        "> Microsoft의 손익계산서에서 기간별 순이익(Net Income) 추이를 요약해줘.\n",
        "\n",
        "### 응답\n",
        "> Microsoft의 2024년 6월 30일 기준 순이익은 88,136,000,000달러이며, 이는 전년 동기인 2023년 6월 30일의 72,361,000,000달러에 비해 증가했습니다. 또한 2022년 6월 30일에는 72,738,000,000달러였으므로, 두 해를 비교했을 때 연속적인 성장세를 보였습니다. 이러한 성장 추세는 견고한 총 수익과 비용 관리의 결과로 해석될 수 있습니다.\n",
        "\n",
        "### 실제 순이익 데이터($)\n",
        "- 2024-06-30: 88136000000.0\n",
        "- 2023-06-30: 72361000000.0\n",
        "- 2022-06-30: 72738000000.0\n",
        "- 2021-06-30: 61271000000.0\n",
        "\n",
        "\n",
        "실제 데이터에 기반한 분석을 내놓은 것을 확인할 수 있습니다."
      ],
      "metadata": {
        "id": "8QjoNgd9a7jl"
      }
    },
    {
      "cell_type": "code",
      "source": [
        "net_income_data = income_stmt.loc[\"Net Income\"]\n",
        "print(\"=== 순이익 (Net Income) ===\")\n",
        "print(net_income_data)"
      ],
      "metadata": {
        "id": "pSXxCzCNJfIO",
        "colab": {
          "base_uri": "https://localhost:8080/"
        },
        "outputId": "6539cdab-0e97-45a9-9d68-f062e78bce27"
      },
      "execution_count": 55,
      "outputs": [
        {
          "output_type": "stream",
          "name": "stdout",
          "text": [
            "=== 순이익 (Net Income) ===\n",
            "2024-06-30    88136000000.0\n",
            "2023-06-30    72361000000.0\n",
            "2022-06-30    72738000000.0\n",
            "2021-06-30    61271000000.0\n",
            "Name: Net Income, dtype: object\n"
          ]
        }
      ]
    }
  ]
}